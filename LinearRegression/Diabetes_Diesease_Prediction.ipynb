{
 "cells": [
  {
   "cell_type": "code",
   "execution_count": 37,
   "id": "b6463f33",
   "metadata": {},
   "outputs": [],
   "source": [
    "import numpy as np\n",
    "from sklearn.linear_model import LinearRegression\n"
   ]
  },
  {
   "cell_type": "code",
   "execution_count": 42,
   "id": "28f930ef",
   "metadata": {},
   "outputs": [],
   "source": [
    "train_data = np.loadtxt('train.csv',delimiter = ',')\n",
    "test_data = np.loadtxt('test.csv',delimiter = ',')\n",
    "\n",
    "x_train = train_data[:,:10]\n",
    "y_train = train_data[:,10:]\n",
    "\n",
    "x_test = test_data\n",
    "\n",
    "model = LinearRegression()\n"
   ]
  },
  {
   "cell_type": "code",
   "execution_count": 44,
   "id": "0bd3c173",
   "metadata": {},
   "outputs": [],
   "source": [
    "model.fit(x_train, y_train)\n",
    "ans = model.predict(x_test)"
   ]
  },
  {
   "cell_type": "code",
   "execution_count": 54,
   "id": "a85b3ecb",
   "metadata": {},
   "outputs": [],
   "source": [
    "# ans=alg.predict(X)\n",
    "for i in range(len(ans)):\n",
    "    ans[i]=format(float(ans[i]),'.5f')\n",
    "np.savetxt('ans2.csv',ans,fmt = '%.5f')\n",
    "# ansnp.sav"
   ]
  }
 ],
 "metadata": {
  "kernelspec": {
   "display_name": "Python 3 (ipykernel)",
   "language": "python",
   "name": "python3"
  },
  "language_info": {
   "codemirror_mode": {
    "name": "ipython",
    "version": 3
   },
   "file_extension": ".py",
   "mimetype": "text/x-python",
   "name": "python",
   "nbconvert_exporter": "python",
   "pygments_lexer": "ipython3",
   "version": "3.10.9"
  }
 },
 "nbformat": 4,
 "nbformat_minor": 5
}
